{
 "cells": [
  {
   "cell_type": "code",
   "execution_count": null,
   "id": "086bca1a",
   "metadata": {},
   "outputs": [],
   "source": [
    "#HYPOTHESIS 1- \n",
    "            #Null Hypothesis (H0): There is no significant correlation between property size and sale price.\n",
    "            #Alternative Hypothesis (H1): There is a significant correlation between property size and sale price.\n",
    "\n",
    "#Significance level = 0.05\n",
    "\n",
    "#This code calculates the Pearson correlation coefficient and \n",
    "#performs a hypothesis test to determine the significance of the correlation between property size and sale price."
   ]
  },
  {
   "cell_type": "code",
   "execution_count": 4,
   "id": "750c43c9",
   "metadata": {},
   "outputs": [
    {
     "name": "stdout",
     "output_type": "stream",
     "text": [
      "Correlation Coefficient: -0.002069543298279478\n",
      "P-value: 0.04275005901373269\n",
      "Reject the null hypothesis: There is a significant correlation.\n"
     ]
    }
   ],
   "source": [
    "#import libraries\n",
    "import pandas as pd\n",
    "from scipy.stats import pearsonr\n",
    "\n",
    "# Load dataset\n",
    "data = pd.read_excel(\"C:/Users/rhizc/OneDrive/Desktop/PROJECT 1/PRODATA.xlsx\")\n",
    "\n",
    "correlation_coefficient, p_value = pearsonr(data['prop_area(sq/m)'], data['sale_price(sq/m)'])\n",
    "\n",
    "# Print the correlation coefficient and p-value\n",
    "print(f\"Correlation Coefficient: {correlation_coefficient}\")\n",
    "print(f\"P-value: {p_value}\")\n",
    "\n",
    "# Compare p-value with significance level (0.05)\n",
    "if p_value < 0.05:\n",
    "    print(\"Reject the null hypothesis: There is a significant correlation.\")\n",
    "else:\n",
    "    print(\"Fail to reject the null hypothesis: No significant correlation.\")\n"
   ]
  },
  {
   "cell_type": "code",
   "execution_count": null,
   "id": "2977014b",
   "metadata": {},
   "outputs": [],
   "source": [
    "#.HYPOTHESIS 2-\n",
    "#.Null Hypothesis (H0): There is no significant difference in average sale prices across different property types.\n",
    "#.Alternative Hypothesis (H1): There is a significant difference in average sale prices across different property types.\n",
    "\n",
    "#.Significance level = 0.05\n",
    "\n",
    "#.ANOVA is used to determine whether there are any statistically significant differences between the means of \n",
    "#.three or more independent groups. "
   ]
  },
  {
   "cell_type": "code",
   "execution_count": 3,
   "id": "52855e8e",
   "metadata": {},
   "outputs": [
    {
     "name": "stdout",
     "output_type": "stream",
     "text": [
      "ANOVA Result: F_onewayResult(statistic=561.8657455433184, pvalue=1.3419488776293912e-244)\n",
      "Reject the null hypothesis: There is a significant difference in average sale prices.\n"
     ]
    }
   ],
   "source": [
    "#import libraries\n",
    "from scipy.stats import f_oneway\n",
    "\n",
    "# load dataset\n",
    "data = pd.read_excel(\"C:/Users/rhizc/OneDrive/Desktop/PROJECT 1/PRODATA.xlsx\")\n",
    "\n",
    "result = f_oneway(\n",
    "    data[data['prop_type'] == 'Building']['sale_price(sq/m)'],\n",
    "    data[data['prop_type'] == 'Unit']['sale_price(sq/m)'],\n",
    "    data[data['prop_type'] == 'Villa']['sale_price(sq/m)'],\n",
    ")\n",
    "\n",
    "# Print the ANOVA result\n",
    "print(f\"ANOVA Result: {result}\")\n",
    "\n",
    "# Compare p-value with significance level (0.05)\n",
    "if result.pvalue < 0.05:\n",
    "    print(\"Reject the null hypothesis: There is a significant difference in average sale prices.\")\n",
    "else:\n",
    "    print(\"Fail to reject the null hypothesis: No significant difference in average sale prices.\")\n"
   ]
  },
  {
   "cell_type": "code",
   "execution_count": null,
   "id": "9c02cd56",
   "metadata": {},
   "outputs": [],
   "source": []
  },
  {
   "cell_type": "code",
   "execution_count": null,
   "id": "74cb40cb",
   "metadata": {},
   "outputs": [],
   "source": []
  }
 ],
 "metadata": {
  "kernelspec": {
   "display_name": "Python 3 (ipykernel)",
   "language": "python",
   "name": "python3"
  },
  "language_info": {
   "codemirror_mode": {
    "name": "ipython",
    "version": 3
   },
   "file_extension": ".py",
   "mimetype": "text/x-python",
   "name": "python",
   "nbconvert_exporter": "python",
   "pygments_lexer": "ipython3",
   "version": "3.10.9"
  }
 },
 "nbformat": 4,
 "nbformat_minor": 5
}
