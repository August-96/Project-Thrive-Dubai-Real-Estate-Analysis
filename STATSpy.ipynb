{
 "cells": [
  {
   "cell_type": "code",
   "execution_count": 2,
   "id": "5c68e56b",
   "metadata": {},
   "outputs": [
    {
     "name": "stdout",
     "output_type": "stream",
     "text": [
      "The average property area is approximately 409.52 square meters.\n",
      "The standard deviation is 12277.63, indicating a wide range of property sizes.\n",
      "The minimum property area is 0.05 square meters.\n",
      "The 25th percentile (Q1) is 69.42 square meters.\n",
      "The median (Q2) is 111.20 square meters.\n",
      "The 75th percentile (Q3) is 204.11 square meters.\n",
      "The maximum property area is 5579948.72 square meters.\n"
     ]
    }
   ],
   "source": [
    "# statistics on property area\n",
    "import pandas as pd\n",
    "import matplotlib.pyplot as plt\n",
    "import seaborn as sns\n",
    "import geopandas as gpd\n",
    "import numpy as np\n",
    "\n",
    "data = pd.read_excel(\"C:/Users/rhizc/OneDrive/Desktop/PROJECT 1/PRODATA.xlsx\")\n",
    "property_areas = data['prop_area(sq/m)']\n",
    "\n",
    "# Calculate the required statistics\n",
    "average_area = np.mean(property_areas)\n",
    "std_dev_area = np.std(property_areas)\n",
    "min_area = np.min(property_areas)\n",
    "q1_area = np.percentile(property_areas, 25)\n",
    "median_area = np.percentile(property_areas, 50)\n",
    "q3_area = np.percentile(property_areas, 75)\n",
    "max_area = np.max(property_areas)\n",
    "\n",
    "# Print the results\n",
    "print(f\"The average property area is approximately {average_area:.2f} square meters.\")\n",
    "print(f\"The standard deviation is {std_dev_area:.2f}, indicating a wide range of property sizes.\")\n",
    "print(f\"The minimum property area is {min_area:.2f} square meters.\")\n",
    "print(f\"The 25th percentile (Q1) is {q1_area:.2f} square meters.\")\n",
    "print(f\"The median (Q2) is {median_area:.2f} square meters.\")\n",
    "print(f\"The 75th percentile (Q3) is {q3_area:.2f} square meters.\")\n",
    "print(f\"The maximum property area is {max_area:.2f} square meters.\")\n"
   ]
  },
  {
   "cell_type": "code",
   "execution_count": 3,
   "id": "0fcbdafa",
   "metadata": {},
   "outputs": [
    {
     "name": "stdout",
     "output_type": "stream",
     "text": [
      "The average sale price per square meter is approximately AED13807.27.\n",
      "The standard deviation is AED107746.03, indicating variability in sale prices.\n",
      "The minimum sale price is AED0.00.\n",
      "The 25th percentile (Q1) is AED6761.59 per square meter.\n",
      "The median (Q2) is AED9942.53 per square meter.\n",
      "The 75th percentile (Q3) is AED15151.52 per square meter.\n",
      "The maximum sale price is AED21811987.51 per square meter.\n"
     ]
    }
   ],
   "source": [
    "# statistics on sale prices\n",
    "\n",
    "sale_prices_sqm = data['sale_price(sq/m)']\n",
    "\n",
    "# Calculate the required statistics\n",
    "average_sale_price_sqm = np.mean(sale_prices_sqm)\n",
    "std_dev_sale_price_sqm = np.std(sale_prices_sqm)\n",
    "min_sale_price_sqm = np.min(sale_prices_sqm)\n",
    "q1_sale_price_sqm = np.percentile(sale_prices_sqm, 25)\n",
    "median_sale_price_sqm = np.percentile(sale_prices_sqm, 50)\n",
    "q3_sale_price_sqm = np.percentile(sale_prices_sqm, 75)\n",
    "max_sale_price_sqm = np.max(sale_prices_sqm)\n",
    "\n",
    "# Print the results\n",
    "print(f\"The average sale price per square meter is approximately AED{average_sale_price_sqm:.2f}.\")\n",
    "print(f\"The standard deviation is AED{std_dev_sale_price_sqm:.2f}, indicating variability in sale prices.\")\n",
    "print(f\"The minimum sale price is AED{min_sale_price_sqm:.2f}.\")\n",
    "print(f\"The 25th percentile (Q1) is AED{q1_sale_price_sqm:.2f} per square meter.\")\n",
    "print(f\"The median (Q2) is AED{median_sale_price_sqm:.2f} per square meter.\")\n",
    "print(f\"The 75th percentile (Q3) is AED{q3_sale_price_sqm:.2f} per square meter.\")\n",
    "print(f\"The maximum sale price is AED{max_sale_price_sqm:.2f} per square meter.\")\n"
   ]
  },
  {
   "cell_type": "code",
   "execution_count": 4,
   "id": "d23eba4f",
   "metadata": {},
   "outputs": [
    {
     "name": "stdout",
     "output_type": "stream",
     "text": [
      "The average property value is approximately AED2916667.41.\n",
      "The standard deviation is AED25669796.55, indicating significant variability in property values.\n",
      "The minimum property value is AED1.00.\n",
      "The 25th percentile (Q1) is AED673000.00.\n",
      "The median (Q2) is AED1221204.00.\n",
      "The 75th percentile (Q3) is AED2205000.00.\n",
      "The maximum property value is AED8100000000.00.\n"
     ]
    }
   ],
   "source": [
    "# statistics on property values\n",
    "\n",
    "\n",
    "property_values = data['prop_value']\n",
    "\n",
    "# Calculate the required statistics\n",
    "average_property_value = np.mean(property_values)\n",
    "std_dev_property_value = np.std(property_values)\n",
    "min_property_value = np.min(property_values)\n",
    "q1_property_value = np.percentile(property_values, 25)\n",
    "median_property_value = np.percentile(property_values, 50)\n",
    "q3_property_value = np.percentile(property_values, 75)\n",
    "max_property_value = np.max(property_values)\n",
    "\n",
    "# Print the results\n",
    "print(f\"The average property value is approximately AED{average_property_value:.2f}.\")\n",
    "print(f\"The standard deviation is AED{std_dev_property_value:.2f}, indicating significant variability in property values.\")\n",
    "print(f\"The minimum property value is AED{min_property_value:.2f}.\")\n",
    "print(f\"The 25th percentile (Q1) is AED{q1_property_value:.2f}.\")\n",
    "print(f\"The median (Q2) is AED{median_property_value:.2f}.\")\n",
    "print(f\"The 75th percentile (Q3) is AED{q3_property_value:.2f}.\")\n",
    "print(f\"The maximum property value is AED{max_property_value:.2f}.\")\n"
   ]
  },
  {
   "cell_type": "code",
   "execution_count": null,
   "id": "b2e5d137",
   "metadata": {},
   "outputs": [],
   "source": []
  }
 ],
 "metadata": {
  "kernelspec": {
   "display_name": "Python 3 (ipykernel)",
   "language": "python",
   "name": "python3"
  },
  "language_info": {
   "codemirror_mode": {
    "name": "ipython",
    "version": 3
   },
   "file_extension": ".py",
   "mimetype": "text/x-python",
   "name": "python",
   "nbconvert_exporter": "python",
   "pygments_lexer": "ipython3",
   "version": "3.10.9"
  }
 },
 "nbformat": 4,
 "nbformat_minor": 5
}
